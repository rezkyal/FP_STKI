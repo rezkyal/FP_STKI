{
 "cells": [
  {
   "cell_type": "code",
   "execution_count": null,
   "metadata": {},
   "outputs": [],
   "source": []
  },
  {
   "cell_type": "markdown",
   "metadata": {},
   "source": [
    "#### Import library yang dibutuhkan"
   ]
  },
  {
   "cell_type": "code",
   "execution_count": 227,
   "metadata": {
    "ExecuteTime": {
     "end_time": "2018-11-26T18:32:29.226273Z",
     "start_time": "2018-11-26T18:32:29.221270Z"
    }
   },
   "outputs": [],
   "source": [
    "import pandas as pd\n",
    "import numpy as np\n",
    "from sklearn.feature_extraction.text import TfidfVectorizer\n",
    "from Sastrawi.StopWordRemover.StopWordRemoverFactory import StopWordRemoverFactory\n",
    "import re\n",
    "from sklearn.decomposition import PCA\n",
    "from tqdm import tqdm_notebook as tqdm\n",
    "from sklearn import svm\n",
    "from sklearn.neighbors import KNeighborsClassifier\n",
    "from sklearn.model_selection import train_test_split\n",
    "from sklearn.model_selection import cross_val_score\n",
    "from sklearn.metrics import confusion_matrix,accuracy_score\n",
    "from imblearn.over_sampling import SMOTE"
   ]
  },
  {
   "cell_type": "markdown",
   "metadata": {},
   "source": [
    "#### Variable yang dibutuhkan"
   ]
  },
  {
   "cell_type": "code",
   "execution_count": 235,
   "metadata": {
    "ExecuteTime": {
     "end_time": "2018-11-26T22:05:45.989171Z",
     "start_time": "2018-11-26T22:05:45.984169Z"
    }
   },
   "outputs": [],
   "source": [
    "dataset_path = \"dataset/lapor.csv\"\n",
    "max_features=10\n",
    "pca_num_components=5\n",
    "data_path=\"data/\"\n",
    "number_of_neighbors=1000\n",
    "number_of_fold=10"
   ]
  },
  {
   "cell_type": "markdown",
   "metadata": {},
   "source": [
    "#### Preparasi data"
   ]
  },
  {
   "cell_type": "code",
   "execution_count": 245,
   "metadata": {
    "ExecuteTime": {
     "end_time": "2018-11-27T01:18:09.799409Z",
     "start_time": "2018-11-27T01:18:07.480205Z"
    }
   },
   "outputs": [
    {
     "data": {
      "text/html": [
       "<div>\n",
       "<style scoped>\n",
       "    .dataframe tbody tr th:only-of-type {\n",
       "        vertical-align: middle;\n",
       "    }\n",
       "\n",
       "    .dataframe tbody tr th {\n",
       "        vertical-align: top;\n",
       "    }\n",
       "\n",
       "    .dataframe thead th {\n",
       "        text-align: right;\n",
       "    }\n",
       "</style>\n",
       "<table border=\"1\" class=\"dataframe\">\n",
       "  <thead>\n",
       "    <tr style=\"text-align: right;\">\n",
       "      <th></th>\n",
       "      <th>id</th>\n",
       "      <th>TrackingID</th>\n",
       "      <th>Pelapor</th>\n",
       "      <th>JudulLaporan</th>\n",
       "      <th>IsiLaporan</th>\n",
       "      <th>Kategori</th>\n",
       "      <th>KategoriID</th>\n",
       "      <th>DisposisiInstansi</th>\n",
       "      <th>DisposisiInstansiID</th>\n",
       "      <th>Area</th>\n",
       "      <th>...</th>\n",
       "      <th>TanggalDisposisi</th>\n",
       "      <th>TanggalLaporanMasuk</th>\n",
       "      <th>TanggalLaporanAktivitasTerakhir</th>\n",
       "      <th>TanggalLaporanDitutup</th>\n",
       "      <th>TimestampLaporanMasuk</th>\n",
       "      <th>TimestampTanggalDisposisi</th>\n",
       "      <th>TimestampTanggalAktivitasTerakhir</th>\n",
       "      <th>TimestampTanggalLaporanDitutup</th>\n",
       "      <th>created_at</th>\n",
       "      <th>updated_at</th>\n",
       "    </tr>\n",
       "  </thead>\n",
       "  <tbody>\n",
       "    <tr>\n",
       "      <th>0</th>\n",
       "      <td>1</td>\n",
       "      <td>22022</td>\n",
       "      <td>628214771xxxx</td>\n",
       "      <td>Tenaga Dokter di Nusa Tenggara Timur</td>\n",
       "      <td>Pak Menteri Kesehatan. Tolong perhatikan kami ...</td>\n",
       "      <td>Bidang Kesejahteraan Rakyat</td>\n",
       "      <td>16</td>\n",
       "      <td>Kementerian Kesehatan</td>\n",
       "      <td>118</td>\n",
       "      <td>Nusa Tenggara Timur</td>\n",
       "      <td>...</td>\n",
       "      <td>04 June 2012 11:24:06</td>\n",
       "      <td>28 May 2012 21:47:41</td>\n",
       "      <td>04 June 2012 11:24:06</td>\n",
       "      <td>27 July 2012 01:00:02</td>\n",
       "      <td>1338216461</td>\n",
       "      <td>1338783846</td>\n",
       "      <td>1338783846</td>\n",
       "      <td>1.343326e+09</td>\n",
       "      <td>2015-12-04 02:08:00</td>\n",
       "      <td>2015-12-04 02:08:00</td>\n",
       "    </tr>\n",
       "    <tr>\n",
       "      <th>1</th>\n",
       "      <td>2</td>\n",
       "      <td>22033</td>\n",
       "      <td>628574613xxxx</td>\n",
       "      <td>Standarisasi Pornografi &amp; Pornoaksi</td>\n",
       "      <td>Kemenkumham, standarisasi minimal pornografi &amp;...</td>\n",
       "      <td>Teknologi Informasi dan Komunikasi</td>\n",
       "      <td>13</td>\n",
       "      <td>Kementerian Hukum dan HAM</td>\n",
       "      <td>248</td>\n",
       "      <td>Nasional</td>\n",
       "      <td>...</td>\n",
       "      <td>13 July 2012 18:13:34</td>\n",
       "      <td>29 May 2012 10:14:24</td>\n",
       "      <td>03 September 2014 12:45:38</td>\n",
       "      <td>25 September 2012 01:00:01</td>\n",
       "      <td>1338261264</td>\n",
       "      <td>1342178014</td>\n",
       "      <td>1409723138</td>\n",
       "      <td>1.348510e+09</td>\n",
       "      <td>2015-12-04 02:08:00</td>\n",
       "      <td>2015-12-04 02:08:00</td>\n",
       "    </tr>\n",
       "    <tr>\n",
       "      <th>2</th>\n",
       "      <td>3</td>\n",
       "      <td>22039</td>\n",
       "      <td>628214771xxxx</td>\n",
       "      <td>Biaya Operasi untuk Pasien Tidak Mampu</td>\n",
       "      <td>Menkes RI yang terhormat, tolong inspeksi ke R...</td>\n",
       "      <td>Kesehatan</td>\n",
       "      <td>5</td>\n",
       "      <td>Kementerian Kesehatan</td>\n",
       "      <td>118</td>\n",
       "      <td>Nusa Tenggara Timur</td>\n",
       "      <td>...</td>\n",
       "      <td>04 June 2012 14:31:27</td>\n",
       "      <td>29 May 2012 11:41:25</td>\n",
       "      <td>22 January 2015 17:42:25</td>\n",
       "      <td>27 July 2012 01:00:02</td>\n",
       "      <td>1338266485</td>\n",
       "      <td>1338795087</td>\n",
       "      <td>1421923345</td>\n",
       "      <td>1.343326e+09</td>\n",
       "      <td>2015-12-04 02:08:00</td>\n",
       "      <td>2015-12-04 02:08:00</td>\n",
       "    </tr>\n",
       "    <tr>\n",
       "      <th>3</th>\n",
       "      <td>4</td>\n",
       "      <td>22067</td>\n",
       "      <td>628139296xxxx</td>\n",
       "      <td>Pembayaran Gaji Dokter PTT di Maluku Utara</td>\n",
       "      <td>Selamat pagi, saya Andrianto, dokter PTT di pe...</td>\n",
       "      <td>Kesehatan</td>\n",
       "      <td>5</td>\n",
       "      <td>Kementerian Kesehatan</td>\n",
       "      <td>118</td>\n",
       "      <td>Maluku Utara</td>\n",
       "      <td>...</td>\n",
       "      <td>30 May 2012 19:11:38</td>\n",
       "      <td>30 May 2012 09:30:47</td>\n",
       "      <td>04 January 2015 04:13:23</td>\n",
       "      <td>08 January 2013 01:00:02</td>\n",
       "      <td>1338345047</td>\n",
       "      <td>1338379898</td>\n",
       "      <td>1420319603</td>\n",
       "      <td>1.357582e+09</td>\n",
       "      <td>2015-12-04 02:08:00</td>\n",
       "      <td>2015-12-04 02:08:00</td>\n",
       "    </tr>\n",
       "    <tr>\n",
       "      <th>4</th>\n",
       "      <td>5</td>\n",
       "      <td>22145</td>\n",
       "      <td>628215460xxxx</td>\n",
       "      <td>Pembalakan Liar di Kalimantan Tengah</td>\n",
       "      <td>Yth. Bpk. Kapolda Kalimantan Tengah. Penegak h...</td>\n",
       "      <td>Lingkungan Hidup dan Penanggulangan Bencana</td>\n",
       "      <td>11</td>\n",
       "      <td>Badan Reserse Kriminal</td>\n",
       "      <td>865</td>\n",
       "      <td>Kalimantan Tengah</td>\n",
       "      <td>...</td>\n",
       "      <td>15 June 2012 16:20:36</td>\n",
       "      <td>31 May 2012 16:40:41</td>\n",
       "      <td>06 September 2015 06:59:50</td>\n",
       "      <td>25 June 2012 12:53:12</td>\n",
       "      <td>1338457241</td>\n",
       "      <td>1339752036</td>\n",
       "      <td>1441497590</td>\n",
       "      <td>1.340604e+09</td>\n",
       "      <td>2015-12-04 02:08:00</td>\n",
       "      <td>2015-12-04 02:08:00</td>\n",
       "    </tr>\n",
       "  </tbody>\n",
       "</table>\n",
       "<p>5 rows × 22 columns</p>\n",
       "</div>"
      ],
      "text/plain": [
       "   id  TrackingID         Pelapor                                JudulLaporan  \\\n",
       "0   1       22022  628214771xxxx         Tenaga Dokter di Nusa Tenggara Timur   \n",
       "1   2       22033  628574613xxxx          Standarisasi Pornografi & Pornoaksi   \n",
       "2   3       22039  628214771xxxx       Biaya Operasi untuk Pasien Tidak Mampu   \n",
       "3   4       22067  628139296xxxx   Pembayaran Gaji Dokter PTT di Maluku Utara   \n",
       "4   5       22145  628215460xxxx         Pembalakan Liar di Kalimantan Tengah   \n",
       "\n",
       "                                          IsiLaporan  \\\n",
       "0  Pak Menteri Kesehatan. Tolong perhatikan kami ...   \n",
       "1  Kemenkumham, standarisasi minimal pornografi &...   \n",
       "2  Menkes RI yang terhormat, tolong inspeksi ke R...   \n",
       "3  Selamat pagi, saya Andrianto, dokter PTT di pe...   \n",
       "4  Yth. Bpk. Kapolda Kalimantan Tengah. Penegak h...   \n",
       "\n",
       "                                      Kategori  KategoriID  \\\n",
       "0                  Bidang Kesejahteraan Rakyat          16   \n",
       "1           Teknologi Informasi dan Komunikasi          13   \n",
       "2                                    Kesehatan           5   \n",
       "3                                    Kesehatan           5   \n",
       "4  Lingkungan Hidup dan Penanggulangan Bencana          11   \n",
       "\n",
       "           DisposisiInstansi  DisposisiInstansiID                 Area  \\\n",
       "0      Kementerian Kesehatan                  118  Nusa Tenggara Timur   \n",
       "1  Kementerian Hukum dan HAM                  248             Nasional   \n",
       "2      Kementerian Kesehatan                  118  Nusa Tenggara Timur   \n",
       "3      Kementerian Kesehatan                  118         Maluku Utara   \n",
       "4     Badan Reserse Kriminal                  865    Kalimantan Tengah   \n",
       "\n",
       "          ...                TanggalDisposisi   TanggalLaporanMasuk  \\\n",
       "0         ...           04 June 2012 11:24:06  28 May 2012 21:47:41   \n",
       "1         ...           13 July 2012 18:13:34  29 May 2012 10:14:24   \n",
       "2         ...           04 June 2012 14:31:27  29 May 2012 11:41:25   \n",
       "3         ...            30 May 2012 19:11:38  30 May 2012 09:30:47   \n",
       "4         ...           15 June 2012 16:20:36  31 May 2012 16:40:41   \n",
       "\n",
       "  TanggalLaporanAktivitasTerakhir       TanggalLaporanDitutup  \\\n",
       "0           04 June 2012 11:24:06       27 July 2012 01:00:02   \n",
       "1      03 September 2014 12:45:38  25 September 2012 01:00:01   \n",
       "2        22 January 2015 17:42:25       27 July 2012 01:00:02   \n",
       "3        04 January 2015 04:13:23    08 January 2013 01:00:02   \n",
       "4      06 September 2015 06:59:50       25 June 2012 12:53:12   \n",
       "\n",
       "  TimestampLaporanMasuk TimestampTanggalDisposisi  \\\n",
       "0            1338216461                1338783846   \n",
       "1            1338261264                1342178014   \n",
       "2            1338266485                1338795087   \n",
       "3            1338345047                1338379898   \n",
       "4            1338457241                1339752036   \n",
       "\n",
       "   TimestampTanggalAktivitasTerakhir  TimestampTanggalLaporanDitutup  \\\n",
       "0                         1338783846                    1.343326e+09   \n",
       "1                         1409723138                    1.348510e+09   \n",
       "2                         1421923345                    1.343326e+09   \n",
       "3                         1420319603                    1.357582e+09   \n",
       "4                         1441497590                    1.340604e+09   \n",
       "\n",
       "            created_at           updated_at  \n",
       "0  2015-12-04 02:08:00  2015-12-04 02:08:00  \n",
       "1  2015-12-04 02:08:00  2015-12-04 02:08:00  \n",
       "2  2015-12-04 02:08:00  2015-12-04 02:08:00  \n",
       "3  2015-12-04 02:08:00  2015-12-04 02:08:00  \n",
       "4  2015-12-04 02:08:00  2015-12-04 02:08:00  \n",
       "\n",
       "[5 rows x 22 columns]"
      ]
     },
     "execution_count": 245,
     "metadata": {},
     "output_type": "execute_result"
    }
   ],
   "source": [
    "train_df = pd.read_csv(dataset_path, delimiter=',')\n",
    "train_df.head()"
   ]
  },
  {
   "cell_type": "code",
   "execution_count": 247,
   "metadata": {
    "ExecuteTime": {
     "end_time": "2018-11-27T01:27:42.402442Z",
     "start_time": "2018-11-27T01:27:42.123095Z"
    },
    "code_folding": []
   },
   "outputs": [
    {
     "name": "stdout",
     "output_type": "stream",
     "text": [
      "Bantuan Langsung Sementara Masyarakat (BLSM)                                 14739\n",
      "Topik Lainnya                                                                 9175\n",
      "Infrastruktur                                                                 6949\n",
      "Reformasi Birokrasi dan Tata Kelola                                           6840\n",
      "Bantuan Siswa Miskin (BSM)                                                    6608\n",
      "Beras Miskin (Raskin)                                                         5952\n",
      "Kepesertaan Non-KPS                                                           4557\n",
      "Pendidikan                                                                    3506\n",
      "Lingkungan Hidup dan Penanggulangan Bencana                                   2748\n",
      "Kartu Indonesia Pintar (KIP)                                                  2391\n",
      "Kesehatan                                                                     2220\n",
      "Kepesertaan KPS                                                               2036\n",
      "Implementasi Penyesuaian Harga BBM                                            1450\n",
      "Perhubungan                                                                   1134\n",
      "Bidang Kesejahteraan Rakyat                                                    980\n",
      "Bidang Politik, Hukum, dan Keamanan                                            876\n",
      "Administrasi Kependudukan                                                      860\n",
      "Layanan Keuangan Digital (LKD)                                                 743\n",
      "Energi dan Sumber Daya Alam                                                    720\n",
      "Pertanahan dan Permukiman                                                      642\n",
      "Kartu Indonesia Sehat (KIS)                                                    640\n",
      "Pelayanan Administrasi                                                         593\n",
      "Kepesertaan Baru                                                               589\n",
      "Kelangkaan BBM                                                                 578\n",
      "Kepesertaan - Kartu & Non Kartu                                                553\n",
      "Perdagangan, Perindustrian, Iklim Usaha, dan Investasi                         542\n",
      "BPJS Kesehatan                                                                 488\n",
      "Teknologi Informasi dan Komunikasi                                             428\n",
      "Lingkungan Hidup                                                               420\n",
      "Imigrasi                                                                       399\n",
      "Listrik                                                                        399\n",
      "Jadwal / Waktu                                                                 370\n",
      "Kepegawaian                                                                    363\n",
      "Ketenagakerjaan                                                                350\n",
      "Penyelewengan                                                                  342\n",
      "Kepolisian                                                                     340\n",
      "Pelayanan Masyarakat                                                           324\n",
      "Program Keluarga Harapan (PKH)                                                 317\n",
      "Pengentasan Kemiskinan                                                         305\n",
      "Pendidikan Dasar dan Menengah (Dikdasmen)                                      305\n",
      "Keamanan dan Ketertiban Masyarakat                                             290\n",
      "Banjir Jakarta 2013                                                            240\n",
      "Administrasi pendaftaran online                                                220\n",
      "Pertanian                                                                      218\n",
      "Bidang Perekonomian                                                            204\n",
      "Layanan Pos                                                                    195\n",
      "Informasi Umum                                                                 180\n",
      "Layanan Air Minum                                                              177\n",
      "Pajak                                                                          165\n",
      "Pemasyarakatan                                                                 148\n",
      "Pembangunan Desa, Daerah Tertinggal, Terdepan, Terluar, dan Transmigrasi       120\n",
      "Iuran                                                                          114\n",
      "Kritik/Saran untuk LAPOR!                                                      104\n",
      "Migas                                                                          100\n",
      "Permasalahan                                                                   100\n",
      "Jamkesmas                                                                       97\n",
      "Banjir Jakarta                                                                  93\n",
      "Pelayanan Kesehatan                                                             83\n",
      "Pendidikan Tinggi (Dikti)                                                       81\n",
      "Topik Khusus                                                                    73\n",
      "Koperasi, UKM, dan Ekonomi Kreatif                                              65\n",
      "Penyalahgunaan Wewenang                                                         61\n",
      "Bea dan Cukai                                                                   53\n",
      "Perbankan                                                                       51\n",
      "Penanggulangan Bencana                                                          48\n",
      "Kompensasi Lainnya                                                              47\n",
      "Tagihan iuran tidak sesuai                                                      46\n",
      "Polhukam                                                                        41\n",
      "Korupsi                                                                         40\n",
      "Kesulitan pembayaran iuran                                                      37\n",
      "Kebudayaan dan Pariwisata                                                       36\n",
      "Penyerapan Anggaran                                                             36\n",
      "Lamanya layanan pendaftaran peserta di KC BPJS Kesehatan                        31\n",
      "Kemaritiman                                                                     27\n",
      "Kartu Keluarga Sejahtera (KKS)                                                  25\n",
      "Pelayanan Obat                                                                  24\n",
      "Kehutanan                                                                       22\n",
      "Pertambangan                                                                    16\n",
      "Perekonomian                                                                    16\n",
      "Status Kepesertaan tidak aktif                                                  16\n",
      "Kesalahan pembayaran iuran                                                      12\n",
      "Situasi Khusus                                                                  12\n",
      "Pemberdayaan Masyarakat                                                         11\n",
      "Pembatasan layanan kesehatan oleh fasilitas kesehatan                           11\n",
      "Haji dan Umrah                                                                   8\n",
      "SMS                                                                              7\n",
      "Ketidaksesuaian layanan kesehatan yang diberikan oleh fasilitas kesehatan        6\n",
      "Iur biaya pada layanan kesehatan di fasilitas kesehatan                          4\n",
      "FKRTL tidak memberikan layanan pada peserta BPJS Kesehatan                       4\n",
      "Ketidaksesuaian lainnya pada layanan administrasi di Kantor Cabang               3\n",
      "Lambatnya layanan pendaftaran Badan Usaha                                        3\n",
      "FKTP tidak memberikan layanan pada peserta BPJS Kesehatan                        3\n",
      "Peserta tidak mendapatkan layanan obat                                           2\n",
      "Iuran Biaya Obat                                                                 2\n",
      "Perundungan (Bullying)                                                           1\n",
      "Kewaspadaan Nasional                                                             1\n",
      "Implementasi Kebijakan Penyesuaian BBM 2013                                      1\n",
      "Name: Kategori, dtype: int64\n"
     ]
    }
   ],
   "source": [
    "kategori_total_list = train_df[\"Kategori\"].value_counts()\n",
    "with pd.option_context('display.max_rows', None, 'display.max_columns', None):\n",
    "    print(kategori_total_list)"
   ]
  },
  {
   "cell_type": "markdown",
   "metadata": {},
   "source": [
    "#### Klasifikasi ulang berdasarkan kemiripan"
   ]
  },
  {
   "cell_type": "code",
   "execution_count": 137,
   "metadata": {
    "ExecuteTime": {
     "end_time": "2018-11-26T17:57:48.610192Z",
     "start_time": "2018-11-26T17:57:48.349012Z"
    }
   },
   "outputs": [],
   "source": [
    "kategori = train_df[\"Kategori\"].values\n",
    "kementerian = train_df[\"Kategori\"].values\n",
    "for i in range(len(kategori)):\n",
    "    kat = str(kategori[i]).lower()\n",
    "    if \"kepegawaian\" in kat:\n",
    "        kementerian[i] = \"Badan Kepegawaian Negara\"\n",
    "    elif \"bencana\" in kat:\n",
    "        kementerian[i] = \"Badan Nasional Penanggulangan Bencana\"\n",
    "    elif \"korupsi\" in kat:\n",
    "        kementerian[i] = \"KPK\"\n",
    "    elif \"kepolisian\" in kat:\n",
    "        kementerian[i] = \"Kepolisian\"\n",
    "    elif \"dikti\" in kat:\n",
    "        kementerian[i] = \"Menteri Riset dan Pendidikan Tinggi\"\n",
    "    elif \"siswa\" in kat or \"pendidikan\" in kat or \"pintar\" in kat or \"kebudayaan\" in kat:\n",
    "        kementerian[i] = \"Menteri Pendidikan dan Kebudayaan\"\n",
    "    elif \"birokrasi\" in kat or \"pelayanan masyarakat\" in kat:\n",
    "        kementerian[i] = \"Menteri Pendayagunaan Aparatur Negara dan Reformasi Birokrasi\"\n",
    "    elif \"infrastruktur\" in kat or \"permukiman\" in kat or \"air minum\" in kat:\n",
    "        kementerian[i] = \"Menteri Pekerjaan Umum dan Perumahan Rakyat\"\n",
    "    elif \"raskin\" in kat or \"kps\" in kat or \"pkh\" in kat or \"kemiskinan\" in kat or \"sejahtera\" in kat:\n",
    "        kementerian[i] = \"Menteri Sosial\"\n",
    "    elif \"kehutanan\" in kat or \"lingkungan\" in kat:\n",
    "        kementerian[i] = \"Menteri Lingkungan Hidup dan Kehutanan\"\n",
    "    elif \"obat\" in kat or \"kesehatan\" in kat or \"sehat\" in kat or \"jamkesmas\" in kat:\n",
    "        kementerian[i] = \"Menteri Kesehatan\"\n",
    "    elif \"pertambangan\" in kat or \"bbm\" in kat or \"energi\" in kat or \"listrik\" in kat or \"migas\" in kat:\n",
    "        kementerian[i] = \"Menteri ESDM\"\n",
    "    elif \"perhubungan\" in kat:\n",
    "        kementerian[i] = \"Menteri Perhubungan\"\n",
    "    elif \"administrasi kependudukan\" in kat or \"pelayanan administrasi\" in kat:\n",
    "        kementerian[i] = \"Menteri Dalam Negeri\"    \n",
    "    elif \"teknologi informasi\" in kat:\n",
    "        kementerian[i] = \"Menteri Telekomunikasi dan Informatika\"\n",
    "    elif \"imigrasi\" in kat:\n",
    "        kementerian[i] = \"Menteri Luar Negeri\"\n",
    "    elif \"ketenagakerjaan\" in kat:\n",
    "        kementerian[i] = \"Menteri Ketenagakerjaan\"\n",
    "    elif \"pertanian\" in kat:\n",
    "        kementerian[i] = \"Menteri Pertanian\"\n",
    "    elif \"pos\" in kat:\n",
    "        kementerian[i] = \"Menteri BUMN\"\n",
    "    elif \"pajak\" in kat or \"bea\" in kat:\n",
    "        kementerian[i] = \"Menteri Keuangan\"\n",
    "    elif \"pendaftaran badan usaha\" in kat or \"pemasyarakatan\" in kat:\n",
    "        kementerian[i] = \"Menteri Hukum dan Ham\"\n",
    "    elif \"desa\" in kat or \"daerah tertinggal\" in kat or \"tertinggal\" in kat or \"transmigrasi\" in kat:\n",
    "        kementerian[i] = \"Menteri Desa, Pembangunan Daerah Tertinggal dan Transmigrasi\" \n",
    "    elif \"koperasi\" in kat or \"ukm\" in kat:\n",
    "        kementerian[i] = \"Menteri Koperasi dan Usaha Kecil dan Menengah\"\n",
    "    elif \"kemaritiman\" in kat:\n",
    "        kementerian[i] = \"Menteri Kelautan dan Perikanan\"\n",
    "    elif \"haji\" in kat:\n",
    "        kementerian[i] = \"Menteri Agama\"\n",
    "    elif \"kesejahteraan\" in kat:\n",
    "        kementerian[i] = \"Menko Pembangunan Manusia dan Kebudayaan\"\n",
    "    elif \"kewaspadaan\" in kat or \"politik\" in kat or \"hukum\" in kat or \"keamanan\" in kat or \"polhukam\" in kat:\n",
    "        kementerian[i] = \"Menko Polhukam\"\n",
    "    elif \"ekonomi\" in kat or \"perekonomian\" in kat or \"perdagangan\" in kat or \"perindustrian\" in kat or \"investasi\" in kat:\n",
    "        kementerian[i] = \"Menko Perekonomian\"\n",
    "    else:\n",
    "        kementerian[i] = \"Lainnya\""
   ]
  },
  {
   "cell_type": "code",
   "execution_count": 138,
   "metadata": {
    "ExecuteTime": {
     "end_time": "2018-11-26T17:57:50.114212Z",
     "start_time": "2018-11-26T17:57:50.109208Z"
    }
   },
   "outputs": [],
   "source": [
    "train_df[\"Kementerian\"] = kementerian"
   ]
  },
  {
   "cell_type": "code",
   "execution_count": 139,
   "metadata": {
    "ExecuteTime": {
     "end_time": "2018-11-26T17:57:52.410994Z",
     "start_time": "2018-11-26T17:57:52.388979Z"
    },
    "scrolled": true
   },
   "outputs": [
    {
     "name": "stdout",
     "output_type": "stream",
     "text": [
      "Lainnya                                                          28139\n",
      "Menteri Sosial                                                   14172\n",
      "Menteri Pendidikan dan Kebudayaan                                12846\n",
      "Menteri Pekerjaan Umum dan Perumahan Rakyat                       7768\n",
      "Menteri Pendayagunaan Aparatur Negara dan Reformasi Birokrasi     7164\n",
      "Menteri Kesehatan                                                 3615\n",
      "Menteri ESDM                                                      3264\n",
      "Badan Nasional Penanggulangan Bencana                             2796\n",
      "Menteri Dalam Negeri                                              1453\n",
      "Menko Polhukam                                                    1208\n",
      "Menteri Perhubungan                                               1134\n",
      "Menko Perekonomian                                                 762\n",
      "Menteri Lingkungan Hidup dan Kehutanan                             442\n",
      "Menteri Telekomunikasi dan Informatika                             428\n",
      "Menteri Luar Negeri                                                399\n",
      "Badan Kepegawaian Negara                                           363\n",
      "Menteri Ketenagakerjaan                                            350\n",
      "Kepolisian                                                         340\n",
      "Menteri Keuangan                                                   218\n",
      "Menteri Pertanian                                                  218\n",
      "Menteri BUMN                                                       195\n",
      "Menteri Hukum dan Ham                                              151\n",
      "Menteri Desa, Pembangunan Daerah Tertinggal dan Transmigrasi       120\n",
      "Menteri Riset dan Pendidikan Tinggi                                 81\n",
      "Menteri Koperasi dan Usaha Kecil dan Menengah                       65\n",
      "KPK                                                                 40\n",
      "Menteri Kelautan dan Perikanan                                      27\n",
      "Menteri Agama                                                        8\n",
      "Name: Kementerian, dtype: int64\n"
     ]
    }
   ],
   "source": [
    "kementerian_total_list = train_df[\"Kementerian\"].value_counts()\n",
    "with pd.option_context('display.max_rows', None, 'display.max_columns', None):\n",
    "    print (kementerian_total_list)"
   ]
  },
  {
   "cell_type": "code",
   "execution_count": 140,
   "metadata": {
    "ExecuteTime": {
     "end_time": "2018-11-26T17:57:57.208683Z",
     "start_time": "2018-11-26T17:57:57.115621Z"
    }
   },
   "outputs": [
    {
     "data": {
      "text/plain": [
       "array(['Pak Menteri Kesehatan. Tolong perhatikan kami RSU di daerah NTT, tenaga Dokter kurang & pelayanan tidak maksimal, tapi bisa melayani 3 s/d 4 tempat. Sangat berbahaya... Trims.',\n",
       "       'Kemenkumham, standarisasi minimal pornografi & pornoaksi tolong dibuat dan disosialisasikan kepada masyarakat.',\n",
       "       'Menkes RI yang terhormat, tolong inspeksi ke RSUD WZ. Yohanis, Kupang. Jika pasien tidak mampu, operasi penyakit dalam diminta bayar sekitar 10 juta, meskipun ada keterangan tidak mampu. Apakah ini benar?',\n",
       "       ...,\n",
       "       'Lstrik di ribuan pelanggan PLN Desa Brabe Kec. Maron Kab. Probolinggo, Jatim, Wilayah Kerja PLN Kraksaan Kab. Prob Jatim sering padam berjam-jam, antara lain tgl 15,24,25 September, 5,13 Oktober,9,10,11,13,16,30 November,1 Desember padam dan saat ini 3 De',\n",
       "       'Kepada yth pengurus BPJSTK, saya mohon bantuannya, waktu saya daftar pertama kali menggunakan nmr HP 089601729737, namun sekarang no tsb b sudah tidak aktip, ketika saya ingin cek saldo bpjs di hp jadi kesulitan dan tidak bisa menggunakan no hp yg baru...',\n",
       "       'Pada hari jumat tanggal 2 Oktober 2015 saya mendaftarkan pemecahan atau pemisahan sertipikat tanah di kantor BPN Jakarta Barat dengan nomer berkas 058809/2015 dan terakhir saya cek ke kantor BPN Jakarta Barat hari Jumat tanggal 27 November 2015 posisi ber'],\n",
       "      dtype='<U255')"
      ]
     },
     "execution_count": 140,
     "metadata": {},
     "output_type": "execute_result"
    }
   ],
   "source": [
    "laporan = train_df[\"IsiLaporan\"].values.astype('U')\n",
    "laporan"
   ]
  },
  {
   "cell_type": "code",
   "execution_count": 141,
   "metadata": {
    "ExecuteTime": {
     "end_time": "2018-11-26T17:58:04.974897Z",
     "start_time": "2018-11-26T17:58:00.013270Z"
    }
   },
   "outputs": [
    {
     "data": {
      "application/vnd.jupyter.widget-view+json": {
       "model_id": "3646de0577644bf0ac997117cec978cc",
       "version_major": 2,
       "version_minor": 0
      },
      "text/plain": [
       "HBox(children=(IntProgress(value=1, bar_style='info', max=1), HTML(value='')))"
      ]
     },
     "metadata": {},
     "output_type": "display_data"
    },
    {
     "name": "stdout",
     "output_type": "stream",
     "text": [
      "\n"
     ]
    },
    {
     "data": {
      "text/plain": [
       "array(['pak menteri kesehatan perhatikan rsu daerah ntt tenaga dokter kurang  pelayanan maksimal bisa melayani  sd  tempat sangat berbahaya trims',\n",
       "       'kemenkumham standarisasi minimal pornografi  pornoaksi dibuat disosialisasikan masyarakat',\n",
       "       'menkes ri terhormat inspeksi rsud wz yohanis kupang pasien mampu operasi penyakit diminta bayar  juta meskipun keterangan mampu ini benar',\n",
       "       ...,\n",
       "       'lstrik ribuan pelanggan pln desa brabe kec maron kab probolinggo jatim wilayah kerja pln kraksaan kab prob jatim sering padam berjamjam lain tgl  september  oktober november desember padam saat  de',\n",
       "       'yth pengurus bpjstk mohon bantuannya waktu daftar pertama kali menggunakan nmr hp  sekarang no tsb b tidak aktip saya cek saldo bpjs hp jadi kesulitan tidak menggunakan no hp yg baru',\n",
       "       'hari jumat tanggal  oktober  mendaftarkan pemecahan pemisahan sertipikat tanah kantor bpn jakarta barat nomer berkas  terakhir cek kantor bpn jakarta barat hari jumat tanggal  november  posisi ber'],\n",
       "      dtype='<U255')"
      ]
     },
     "execution_count": 141,
     "metadata": {},
     "output_type": "execute_result"
    }
   ],
   "source": [
    "factory = StopWordRemoverFactory()\n",
    "stopword = factory.create_stop_word_remover()\n",
    "for index, data in tqdm(enumerate(laporan)):\n",
    "    clean=re.sub('[^ a-zA-Z]','',data.lower())\n",
    "    stop=stopword.remove(clean)\n",
    "    laporan[index] = stop\n",
    "laporan"
   ]
  },
  {
   "cell_type": "code",
   "execution_count": null,
   "metadata": {
    "ExecuteTime": {
     "end_time": "2018-11-26T22:05:46.464930Z",
     "start_time": "2018-11-26T18:53:16.207Z"
    }
   },
   "outputs": [],
   "source": [
    "vectorizer = TfidfVectorizer(max_features=max_features)\n",
    "X = vectorizer.fit_transform(laporan)\n",
    "X.shape"
   ]
  },
  {
   "cell_type": "code",
   "execution_count": 143,
   "metadata": {
    "ExecuteTime": {
     "end_time": "2018-11-26T17:58:17.328305Z",
     "start_time": "2018-11-26T17:58:15.084746Z"
    }
   },
   "outputs": [
    {
     "data": {
      "text/plain": [
       "array([[-0.02295902, -0.04967939,  0.08032994,  0.03676032,  0.09438705],\n",
       "       [ 0.00032627, -0.02528172,  0.04505265, -0.00770379,  0.07944125],\n",
       "       [ 0.02876365, -0.06836948,  0.0234573 , -0.01597515,  0.06618244],\n",
       "       ...,\n",
       "       [ 0.06404366,  0.02920866,  0.0059062 , -0.17093522,  0.03819583],\n",
       "       [-0.04285838, -0.05113869,  0.11248707,  0.01455822,  0.06250055],\n",
       "       [-0.12950323, -0.0004442 , -0.0264122 ,  0.02584432,  0.03786878]])"
      ]
     },
     "execution_count": 143,
     "metadata": {},
     "output_type": "execute_result"
    }
   ],
   "source": [
    "feature=X.todense()\n",
    "ftr = PCA(n_components=pca_num_components).fit_transform(feature)\n",
    "ftr"
   ]
  },
  {
   "cell_type": "code",
   "execution_count": 200,
   "metadata": {
    "ExecuteTime": {
     "end_time": "2018-11-26T18:23:04.835867Z",
     "start_time": "2018-11-26T18:23:04.825860Z"
    }
   },
   "outputs": [],
   "source": [
    "def strToOneHot(kementerian):\n",
    "    one_hot_cls = []\n",
    "    kementerian_u = pd.unique(kementerian)\n",
    "    kementerian_u = kementerian_u.tolist()\n",
    "    for i in range(len(kementerian)):\n",
    "        one_hot = np.zeros((len(kementerian_u),), dtype=int)\n",
    "        idx = kementerian_u.index(kementerian[i])\n",
    "        one_hot[idx] = 1\n",
    "        one_hot_cls.append(one_hot)\n",
    "    one_hot_cls = np.array(one_hot_cls)\n",
    "    return one_hot_cls\n",
    "\n",
    "def oneHotToStr(one_hot_cls):\n",
    "    cls=[]\n",
    "    kementerian_u = pd.unique(kementerian)\n",
    "    kementerian_u = kementerian_u.tolist()\n",
    "    for data in one_hot_cls:\n",
    "        index=np.argmax(data)\n",
    "        cls.append(kementerian_u[index])\n",
    "    return cls"
   ]
  },
  {
   "cell_type": "code",
   "execution_count": 145,
   "metadata": {
    "ExecuteTime": {
     "end_time": "2018-11-26T17:59:07.006639Z",
     "start_time": "2018-11-26T17:59:06.892684Z"
    }
   },
   "outputs": [],
   "source": [
    "np.save(data_path+'feature.npy',ftr)\n",
    "np.save(data_path+'kelas.npy',kementerian)"
   ]
  },
  {
   "cell_type": "code",
   "execution_count": 201,
   "metadata": {
    "ExecuteTime": {
     "end_time": "2018-11-26T18:23:09.060618Z",
     "start_time": "2018-11-26T18:23:09.049609Z"
    }
   },
   "outputs": [],
   "source": [
    "ftr=np.load(data_path+'feature.npy')\n",
    "kementerian=np.load(data_path+'kelas.npy')"
   ]
  },
  {
   "cell_type": "code",
   "execution_count": 202,
   "metadata": {
    "ExecuteTime": {
     "end_time": "2018-11-26T18:23:10.693781Z",
     "start_time": "2018-11-26T18:23:10.477611Z"
    }
   },
   "outputs": [],
   "source": [
    "one_hot_cls=strToOneHot(kementerian)"
   ]
  },
  {
   "cell_type": "code",
   "execution_count": 203,
   "metadata": {
    "ExecuteTime": {
     "end_time": "2018-11-26T18:23:11.971322Z",
     "start_time": "2018-11-26T18:23:11.966318Z"
    }
   },
   "outputs": [
    {
     "name": "stdout",
     "output_type": "stream",
     "text": [
      "(87766, 5)\n",
      "(87766, 28)\n"
     ]
    }
   ],
   "source": [
    "print(ftr.shape)\n",
    "print(one_hot_cls.shape)"
   ]
  },
  {
   "cell_type": "code",
   "execution_count": 204,
   "metadata": {
    "ExecuteTime": {
     "end_time": "2018-11-26T18:23:40.096610Z",
     "start_time": "2018-11-26T18:23:39.881467Z"
    }
   },
   "outputs": [
    {
     "name": "stdout",
     "output_type": "stream",
     "text": [
      "[ 0  1  2  3  4  5  6  7  8  9 10 11 12 13 14 15 16 17 18 19 20 21 22 23\n",
      " 24 25 26 27]\n"
     ]
    }
   ],
   "source": [
    "indexed_cls = list(map(lambda x: np.argmax(x), one_hot_cls))\n",
    "print(pd.unique(indexed_cls))"
   ]
  },
  {
   "cell_type": "code",
   "execution_count": 205,
   "metadata": {
    "ExecuteTime": {
     "end_time": "2018-11-26T18:23:41.219192Z",
     "start_time": "2018-11-26T18:23:41.176162Z"
    },
    "scrolled": true
   },
   "outputs": [
    {
     "data": {
      "text/plain": [
       "{0: 14172,\n",
       " 1: 428,\n",
       " 2: 3615,\n",
       " 3: 2796,\n",
       " 4: 12846,\n",
       " 5: 7164,\n",
       " 6: 762,\n",
       " 7: 218,\n",
       " 8: 1208,\n",
       " 9: 3264,\n",
       " 10: 28139,\n",
       " 11: 40,\n",
       " 12: 7768,\n",
       " 13: 120,\n",
       " 14: 1134,\n",
       " 15: 350,\n",
       " 16: 442,\n",
       " 17: 8,\n",
       " 18: 363,\n",
       " 19: 1453,\n",
       " 20: 27,\n",
       " 21: 218,\n",
       " 22: 340,\n",
       " 23: 81,\n",
       " 24: 195,\n",
       " 25: 151,\n",
       " 26: 399,\n",
       " 27: 65}"
      ]
     },
     "execution_count": 205,
     "metadata": {},
     "output_type": "execute_result"
    }
   ],
   "source": [
    "def valuesCount(arr):\n",
    "    cls_dict = {}\n",
    "    for i in arr:\n",
    "        if i in cls_dict:\n",
    "            cls_dict[i] += 1\n",
    "        else:\n",
    "            cls_dict[i] = 1\n",
    "    return cls_dict\n",
    "valuesCount(indexed_cls)"
   ]
  },
  {
   "cell_type": "code",
   "execution_count": 206,
   "metadata": {
    "ExecuteTime": {
     "end_time": "2018-11-26T18:23:45.861399Z",
     "start_time": "2018-11-26T18:23:45.655257Z"
    }
   },
   "outputs": [],
   "source": [
    "ftr_used=ftr\n",
    "cls_used=oneHotToStr(one_hot_cls)"
   ]
  },
  {
   "cell_type": "code",
   "execution_count": 207,
   "metadata": {
    "ExecuteTime": {
     "end_time": "2018-11-26T18:23:47.308202Z",
     "start_time": "2018-11-26T18:23:47.145090Z"
    }
   },
   "outputs": [],
   "source": [
    "X_train, X_test, y_train, y_test = train_test_split(ftr_used,cls_used, test_size=0.3, random_state=0, stratify=cls_used)"
   ]
  },
  {
   "cell_type": "markdown",
   "metadata": {},
   "source": [
    "### SMOTE"
   ]
  },
  {
   "cell_type": "code",
   "execution_count": 208,
   "metadata": {
    "ExecuteTime": {
     "end_time": "2018-11-26T18:23:50.586101Z",
     "start_time": "2018-11-26T18:23:50.285900Z"
    }
   },
   "outputs": [
    {
     "name": "stdout",
     "output_type": "stream",
     "text": [
      "[ 0  1  2  3  4  5  6  7  8  9 10 11 12 13 14 15 16 17 18 19 20 21 22 23\n",
      " 24 25 26 27]\n"
     ]
    }
   ],
   "source": [
    "indexed_cls = list(map(lambda x: np.argmax(x), strToOneHot(y_train)))\n",
    "print(pd.unique(indexed_cls))"
   ]
  },
  {
   "cell_type": "code",
   "execution_count": 209,
   "metadata": {
    "ExecuteTime": {
     "end_time": "2018-11-26T18:23:53.707442Z",
     "start_time": "2018-11-26T18:23:53.683426Z"
    }
   },
   "outputs": [
    {
     "data": {
      "text/plain": [
       "{0: 5015,\n",
       " 1: 9920,\n",
       " 2: 846,\n",
       " 3: 5438,\n",
       " 4: 19697,\n",
       " 5: 8992,\n",
       " 6: 1017,\n",
       " 7: 238,\n",
       " 8: 2285,\n",
       " 9: 1957,\n",
       " 10: 2530,\n",
       " 11: 794,\n",
       " 12: 279,\n",
       " 13: 136,\n",
       " 14: 153,\n",
       " 15: 309,\n",
       " 16: 533,\n",
       " 17: 245,\n",
       " 18: 300,\n",
       " 19: 45,\n",
       " 20: 153,\n",
       " 21: 57,\n",
       " 22: 254,\n",
       " 23: 106,\n",
       " 24: 84,\n",
       " 25: 19,\n",
       " 26: 6,\n",
       " 27: 28}"
      ]
     },
     "execution_count": 209,
     "metadata": {},
     "output_type": "execute_result"
    }
   ],
   "source": [
    "def valuesCount(arr):\n",
    "    cls_dict = {}\n",
    "    for i in arr:\n",
    "        if i in cls_dict:\n",
    "            cls_dict[i] += 1\n",
    "        else:\n",
    "            cls_dict[i] = 1\n",
    "    return cls_dict\n",
    "valuesCount(indexed_cls)"
   ]
  },
  {
   "cell_type": "code",
   "execution_count": 215,
   "metadata": {
    "ExecuteTime": {
     "end_time": "2018-11-26T18:27:53.058210Z",
     "start_time": "2018-11-26T18:27:47.355406Z"
    }
   },
   "outputs": [],
   "source": [
    "sm = SMOTE(random_state=42)\n",
    "ftr_res, cls_res = sm.fit_sample(X_train, y_train)"
   ]
  },
  {
   "cell_type": "code",
   "execution_count": 217,
   "metadata": {
    "ExecuteTime": {
     "end_time": "2018-11-26T18:28:35.550817Z",
     "start_time": "2018-11-26T18:28:32.004450Z"
    }
   },
   "outputs": [
    {
     "name": "stdout",
     "output_type": "stream",
     "text": [
      "[ 0  1  2  3  4  5  6  7  8  9 10 11 12 13 14 15 16 17 18 19 20 21 22 23\n",
      " 24 25 26 27]\n",
      "{0: 19697, 1: 19697, 2: 19697, 3: 19697, 4: 19697, 5: 19697, 6: 19697, 7: 19697, 8: 19697, 9: 19697, 10: 19697, 11: 19697, 12: 19697, 13: 19697, 14: 19697, 15: 19697, 16: 19697, 17: 19697, 18: 19697, 19: 19697, 20: 19697, 21: 19697, 22: 19697, 23: 19697, 24: 19697, 25: 19697, 26: 19697, 27: 19697}\n"
     ]
    }
   ],
   "source": [
    "indexed_cls = list(map(lambda x: np.argmax(x), strToOneHot(cls_res)))\n",
    "print(pd.unique(indexed_cls))\n",
    "print(valuesCount(indexed_cls))"
   ]
  },
  {
   "cell_type": "code",
   "execution_count": 243,
   "metadata": {
    "ExecuteTime": {
     "end_time": "2018-11-27T01:07:36.495650Z",
     "start_time": "2018-11-27T01:07:30.747125Z"
    }
   },
   "outputs": [],
   "source": [
    "KNN=KNeighborsClassifier(n_neighbors=number_of_neighbors)\n",
    "KNN=KNN.fit(ftr_res,cls_res)"
   ]
  },
  {
   "cell_type": "code",
   "execution_count": 234,
   "metadata": {
    "ExecuteTime": {
     "end_time": "2018-11-26T22:05:45.143172Z",
     "start_time": "2018-11-26T18:38:11.956143Z"
    }
   },
   "outputs": [],
   "source": [
    "clf=svm.SVC()\n",
    "clf=clf.fit(ftr_res,indexed_cls)"
   ]
  },
  {
   "cell_type": "code",
   "execution_count": 244,
   "metadata": {
    "ExecuteTime": {
     "end_time": "2018-11-27T01:17:00.489575Z",
     "start_time": "2018-11-27T01:16:34.018666Z"
    }
   },
   "outputs": [],
   "source": [
    "y_predict=KNN.predict(X_test)"
   ]
  },
  {
   "cell_type": "code",
   "execution_count": 240,
   "metadata": {
    "ExecuteTime": {
     "end_time": "2018-11-27T01:00:06.270942Z",
     "start_time": "2018-11-27T00:47:47.441643Z"
    }
   },
   "outputs": [],
   "source": [
    "# X_test_predict = list(map(lambda x: np.argmax(x), strToOneHot(X_test)))\n",
    "svm_predict=clf.predict(X_test)"
   ]
  },
  {
   "cell_type": "code",
   "execution_count": 241,
   "metadata": {
    "ExecuteTime": {
     "end_time": "2018-11-27T01:00:06.436047Z",
     "start_time": "2018-11-27T01:00:06.272937Z"
    }
   },
   "outputs": [
    {
     "data": {
      "text/plain": [
       "array([[   7, 2311,   16,    7,  911,  374,   15,    4,   20,   42,   32,\n",
       "           6,   16,   19,    1,    4,    0,    0,    3,   41,   63,   54,\n",
       "          18,   63,   59,   36,   13,  117],\n",
       "       [  45,    1,  193,  330,    2,    2,    1,  104,   22,  510,    7,\n",
       "         221,   38,   35,    2,  117,    0,    0,    9,  214,   34,    8,\n",
       "          17,  112,   43,   77,   16,  170],\n",
       "       [   3,    1,   18,    8,    1,    0,    0,   55,  644,   28,    3,\n",
       "          10,   10,   20,    0,    8,    0,    0,    5,    3,   36,    3,\n",
       "           2,   11,   36,   39,    5,   30],\n",
       "       [  68, 1129,  114,  159, 3030,  439,   92,   64,   39,  878,   94,\n",
       "         256,  150,   81,    3,  142,    0,    0,    9,  530,   27,   70,\n",
       "         100,  327,   52,   62,   53,  474],\n",
       "       [  21,  239,    7,    1,   72, 2408,   33,    9,    2,   24,  214,\n",
       "           5,   85,   38,   10,    6,    0,    0,    5,  142,   23,  153,\n",
       "          44,   72,    6,   74,   69,   92],\n",
       "       [  55,    1,  108,   75,    7,   36,   15,   75,   16,  224,   19,\n",
       "          43,  114,  113,    2,   41,    0,    0,   18,  285,   41,  126,\n",
       "          79,  154,   29,  191,   85,  197],\n",
       "       [   1,    0,    0,    0,    0,    0,    0,    0,    3,    2,    1,\n",
       "           0,    4,   18,    0,    2,    0,    0,    0,    3,    0,    8,\n",
       "           4,    1,    0,    7,    6,    5],\n",
       "       [   2,    0,    2,    0,    1,    3,    4,    4,    0,    0,    1,\n",
       "           0,   22,   18,    0,    1,    0,    0,    0,    0,    0,    5,\n",
       "           7,    8,    0,   17,   17,    8],\n",
       "       [  18,   15,    6,    3,   11,   91,  184,   10,    4,   53,  128,\n",
       "           8,   46,   81,    4,   11,    0,    1,    6,   82,   11,   56,\n",
       "          14,   48,    2,   30,   78,   84],\n",
       "       [   1,    1,    1,    1,    0,    0,    0,    0,    1,    1,    0,\n",
       "           0,    2,    2,    0,    0,    0,    0,    2,    1,    6,    6,\n",
       "           0,    2,   16,   14,    1,    7],\n",
       "       [   2,    0,    5,    3,    0,    0,    0,    4,    5,   29,    1,\n",
       "          12,    2,    2,    0,   27,    0,    0,    0,   15,    2,    1,\n",
       "           2,    9,    2,    5,    1,    4],\n",
       "       [   1,    0,    4,    3,    0,    0,    0,   19,    2,    0,    0,\n",
       "           4,    8,   11,    0,    0,    0,    0,    0,    3,    1,   10,\n",
       "           5,    1,    1,   18,    2,    9],\n",
       "       [  20,    0,   33,   46,    2,    3,    0,   18,    9,  319,    1,\n",
       "          75,    9,    4,    0,   70,    0,    0,    4,  113,    5,    2,\n",
       "           8,   23,   13,   29,    4,   29],\n",
       "       [   0,    0,    2,    1,    0,    0,    0,   12,    2,    2,    2,\n",
       "           2,    8,   19,    1,    0,    0,    0,    3,    4,    2,    6,\n",
       "           5,    6,    8,   22,    8,   13],\n",
       "       [   5,    0,   30,   39,    0,    4,    2,   25,    2,   33,    0,\n",
       "          67,    8,    5,    0,   22,    0,    0,    1,   38,    0,    2,\n",
       "           7,   11,    0,   15,    1,   23],\n",
       "       [   0,    0,    4,    0,    0,    8,  111,   13,    0,    1,    6,\n",
       "           1,   28,   56,    1,    3,    0,    0,    0,   20,   14,   52,\n",
       "          17,    9,    5,   27,   44,   16],\n",
       "       [   1,    0,    0,    1,    0,    2,    0,    2,    0,    2,    0,\n",
       "           1,   13,    8,    0,    3,    0,    0,    2,    9,    6,    7,\n",
       "          12,    8,    2,   14,    7,    9],\n",
       "       [   0,    0,    1,    0,    0,    0,    1,    1,    0,    1,    0,\n",
       "           0,    0,    0,    0,    0,    0,    0,    0,    2,    0,    1,\n",
       "           2,    0,    1,    0,    1,    1],\n",
       "       [   0,    0,    1,    0,    0,    0,    1,    0,    0,    0,    0,\n",
       "           0,    1,    4,    0,    0,    0,    0,    0,    1,    0,    3,\n",
       "           0,    1,    0,    5,    5,    2],\n",
       "       [  15,    0,   37,   16,    2,    7,    3,   49,    2,   21,    5,\n",
       "          12,   15,   15,    0,    5,    0,    0,    2,   26,    3,   10,\n",
       "           7,   36,    5,   23,   14,   32],\n",
       "       [   5,    0,   15,    4,    0,    1,    0,    8,    3,   28,    3,\n",
       "          12,    5,   15,    1,    7,    0,    0,    1,   45,    8,    6,\n",
       "           5,   10,    2,   24,    5,   16],\n",
       "       [   1,    0,    0,    0,    0,    0,    2,    3,    0,    0,    0,\n",
       "           0,    6,   19,    0,    0,    0,    0,    0,    0,    0,    8,\n",
       "           1,    0,    1,    5,   10,    3],\n",
       "       [   0,    0,    0,    0,    0,    1,    0,    0,    0,    4,    0,\n",
       "           4,    3,    0,    0,    0,    0,    0,    0,    1,    2,    0,\n",
       "           2,    0,    0,    1,    1,    1],\n",
       "       [   0,    1,    0,    0,    0,    0,    0,    1,    0,    1,    0,\n",
       "           0,    1,    2,    0,    1,    0,    0,    0,    0,    4,    2,\n",
       "           1,    0,   19,    3,    0,    0],\n",
       "       [   2,    0,    0,    0,    0,    2,    8,    4,    0,    5,    2,\n",
       "           2,   15,   20,    0,    0,    0,    0,    0,   10,    3,   10,\n",
       "           4,    4,    1,    4,    5,    4],\n",
       "       [   0,    1,    1,    0,    0,    1,    0,    0,    2,    1,    0,\n",
       "           0,    6,    2,    0,    0,    0,    0,    0,    1,    0,    1,\n",
       "           0,   20,    1,    4,    2,    2],\n",
       "       [   0,    0,    0,    0,    0,    0,    0,    1,    0,    0,    0,\n",
       "           0,    0,    0,    0,    1,    0,    0,    0,    0,    0,    0,\n",
       "           0,    1,    2,    3,    0,    0],\n",
       "       [   0,    0,    0,    0,    0,    0,    0,    0,    0,    0,    0,\n",
       "           0,    0,    0,    0,    0,    0,    0,    0,    0,    1,    0,\n",
       "           1,    0,    0,    0,    0,    0]], dtype=int64)"
      ]
     },
     "execution_count": 241,
     "metadata": {},
     "output_type": "execute_result"
    }
   ],
   "source": [
    "y_test_indexed = list(map(lambda x: np.argmax(x), strToOneHot(y_test)))\n",
    "confusion_matrix(y_test_indexed,svm_predict)"
   ]
  },
  {
   "cell_type": "code",
   "execution_count": 242,
   "metadata": {
    "ExecuteTime": {
     "end_time": "2018-11-27T01:00:06.524106Z",
     "start_time": "2018-11-27T01:00:06.438048Z"
    }
   },
   "outputs": [
    {
     "data": {
      "text/plain": [
       "0.36973034561336876"
      ]
     },
     "execution_count": 242,
     "metadata": {},
     "output_type": "execute_result"
    }
   ],
   "source": [
    "accuracy_score(y_test,y_predict)"
   ]
  }
 ],
 "metadata": {
  "kernelspec": {
   "display_name": "Python 3",
   "language": "python",
   "name": "python3"
  },
  "language_info": {
   "codemirror_mode": {
    "name": "ipython",
    "version": 3
   },
   "file_extension": ".py",
   "mimetype": "text/x-python",
   "name": "python",
   "nbconvert_exporter": "python",
   "pygments_lexer": "ipython3",
   "version": "3.6.5"
  }
 },
 "nbformat": 4,
 "nbformat_minor": 2
}
